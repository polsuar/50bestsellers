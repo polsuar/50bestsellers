{
  "nbformat": 4,
  "nbformat_minor": 0,
  "metadata": {
    "colab": {
      "name": "TP 4.ipynb",
      "provenance": [],
      "collapsed_sections": [],
      "toc_visible": true
    },
    "kernelspec": {
      "name": "python3",
      "display_name": "Python 3"
    }
  },
  "cells": [
    {
      "cell_type": "markdown",
      "metadata": {
        "id": "WMF_FGLWNdZ2"
      },
      "source": [
        "LECTURA DE ARCHIVOS\n",
        "\n",
        "¿Cómo accedemos a nuestros datos guardados?"
      ]
    },
    {
      "cell_type": "markdown",
      "metadata": {
        "id": "7kezLeydNdHv"
      },
      "source": [
        "Primero debemos montar nuestro Drive."
      ]
    },
    {
      "cell_type": "code",
      "metadata": {
        "id": "GURA_W7FTyu1",
        "colab": {
          "base_uri": "https://localhost:8080/"
        },
        "outputId": "875209d6-5d91-4656-d0aa-2e99b9f71b23"
      },
      "source": [
        "from google.colab import drive\n",
        "# Esto te va a solicitar autorizacion para acceder a tu Drive. \n",
        "# Entra al link y acepta los permisos. Copia la clave suministrada y pegalo donde te lo solicita\n",
        "drive.mount('/content/drive')"
      ],
      "execution_count": 1,
      "outputs": [
        {
          "output_type": "stream",
          "text": [
            "Mounted at /content/drive\n"
          ],
          "name": "stdout"
        }
      ]
    },
    {
      "cell_type": "code",
      "metadata": {
        "colab": {
          "base_uri": "https://localhost:8080/"
        },
        "id": "FlE8AR45M9Au",
        "outputId": "dd045ecf-6f8c-4fb9-cda0-d083f2e41331"
      },
      "source": [
        "from google.colab import drive\n",
        "drive.mount('/content/drive')"
      ],
      "execution_count": 2,
      "outputs": [
        {
          "output_type": "stream",
          "text": [
            "Drive already mounted at /content/drive; to attempt to forcibly remount, call drive.mount(\"/content/drive\", force_remount=True).\n"
          ],
          "name": "stdout"
        }
      ]
    },
    {
      "cell_type": "code",
      "metadata": {
        "id": "ZQMXs8pzU9Mp",
        "colab": {
          "base_uri": "https://localhost:8080/",
          "height": 53
        },
        "outputId": "d26e5f8d-c048-45c1-dd70-202b99883467"
      },
      "source": [
        "\"\"\"\n",
        "Acá seteamos el directorio de trabajo. \n",
        "\n",
        "%cd /content/drive/My\\ Drive/*******  Reemplace los \"*******\" por la direccion de su directorio\n",
        "\n",
        "La direccion depende de su organizacion.\n",
        "Recomiendo crear una carpeta en la raiz, asi accederan rapidamente a sus archivos\n",
        "\n",
        "\"\"\"\n",
        "\n",
        "%cd /content/drive/My\\ Drive/Colab\\ Notebooks/\n",
        "%pwd  #Verificamos el directorio"
      ],
      "execution_count": 6,
      "outputs": [
        {
          "output_type": "stream",
          "text": [
            "/content/drive/My Drive/Colab Notebooks\n"
          ],
          "name": "stdout"
        },
        {
          "output_type": "execute_result",
          "data": {
            "application/vnd.google.colaboratory.intrinsic+json": {
              "type": "string"
            },
            "text/plain": [
              "'/content/drive/My Drive/Colab Notebooks'"
            ]
          },
          "metadata": {
            "tags": []
          },
          "execution_count": 6
        }
      ]
    },
    {
      "cell_type": "markdown",
      "metadata": {
        "id": "3aTp2KhCVbBy"
      },
      "source": [
        "### Accedemos a la informacion del archivo.\n",
        "\n",
        "En este ejemplo leeremos la cantidad de casos confirmados de COVID19 registrados durante el mes de mayo en Argentina."
      ]
    },
    {
      "cell_type": "code",
      "metadata": {
        "id": "HK2fP7vvV1Cg",
        "colab": {
          "base_uri": "https://localhost:8080/",
          "height": 312
        },
        "outputId": "b20239bd-fd26-4e46-ce7a-98add6c1afb0"
      },
      "source": [
        "import csv\n",
        "import numpy as np\n",
        "import matplotlib.pyplot as plt\n",
        "\n",
        "#Cargo el archivo en file\n",
        "file = np.loadtxt(\"mediciones.txt\", skiprows=2)\n",
        "\n",
        "#Creo listas x e y para guardar los valores correspondientes de cada fila\n",
        "x = file[:,0]\n",
        "y = file[:,1]\n",
        "\n",
        "#Grafico\n",
        "plt.plot(x, y)\n",
        "\n",
        "plt.title('Funcion')\n",
        "plt.ylabel(\"Eje abscisas\",)\n",
        "plt.xlabel(\"Eje ordenadas\")\n",
        "plt.show()\n",
        "\n",
        "#Creo lista de y intermedia\n",
        "\n",
        "y_int = y[1:99]\n",
        "sumatoria = sum(y_int)\n",
        "\n",
        "#Calculo h\n",
        "intervalos = len(x) - 1\n",
        "h = (x[99]-x[0])/intervalos\n",
        "\n",
        "#Encuentro fx0 y fx100\n",
        "fx0 = y[0]\n",
        "fx100 = y[99]\n",
        "\n",
        "#Creo ecuacion de trapecio\n",
        "area = (h/2)*(fx0+2*sumatoria+fx100) \n",
        "print('El valor del área bajo la curva es: ', area)"
      ],
      "execution_count": 32,
      "outputs": [
        {
          "output_type": "display_data",
          "data": {
            "image/png": "[encoded data removed]",
            "text/plain": [
              "<Figure size 432x288 with 1 Axes>"
            ]
          },
          "metadata": {
            "tags": [],
            "needs_background": "light"
          }
        },
        {
          "output_type": "stream",
          "text": [
            "El valor del área bajo la curva es:  460.4367899999999\n"
          ],
          "name": "stdout"
        }
      ]
    },
    {
      "cell_type": "code",
      "metadata": {
        "colab": {
          "base_uri": "https://localhost:8080/",
          "height": 132
        },
        "id": "HSALZE3bdHDg",
        "outputId": "a56c5378-dfc9-4d6b-d8d2-fef93e86ab90"
      },
      "source": [
        "import csv\n",
        "import xlrd\n",
        "import numpy as np\n",
        "\n",
        "#Cargo el archivo 1\n",
        "com1 = np.loadtxt(\"Comision1.txt\")\n",
        "id_1 = com1[:,0]\n",
        "nota1_1 = com1[:,1]\n",
        "nota2_1 = com1[:,2]\n",
        "# print(id_1)\n",
        "\n",
        "#Cargo el archivo 2\n",
        "com2 = np.loadtxt(\"Comision2.csv\",delimiter=\",\",dtype=int)\n",
        "id_2 = com2[:,0]\n",
        "nota1_2 = com2[:,1]\n",
        "nota2_2 = com2[:,2]\n",
        "# print(id_2)\n",
        "\n",
        "#Cargo el archivo 3 \n",
        "workbook = xlrd.open_workbook(\"Comision3.xlsx\")\n",
        "worksheet = workbook.sheet_by_name('Hoja3')\n",
        "id_3= worksheet.col_values(int(0))\n",
        "nota1_3 = worksheet.col_values(1)\n",
        "nota2_3 = worksheet.col_values(2)\n",
        "# print(id_3)\n",
        "\n",
        "\n",
        "promocionados=[]\n",
        "regulariza = []\n",
        "recupera=[]\n",
        "def estado_alumno(\"com\",ide,par1,par2):\n",
        "  promedio = (par1 + par2)/2\n",
        "\n",
        "  if (par1 <4 or par2 <4):\n",
        "    recuperan.append(\"com\",ide,promedio)\n",
        "  elif (promedio >= 7):\n",
        "    promocionados.append(\"com\",ide,promedio)\n",
        "  elif (promedio >=4):\n",
        "    regulariza.append(\"com\",ide,promedio)\n",
        "  return\n",
        "\n",
        "estado_alumno(\"Comision 1\",id_1,nota1_1,nota2_1)\n",
        "print(promocionados)\n",
        "\n",
        "\n",
        "\n"
      ],
      "execution_count": 70,
      "outputs": [
        {
          "output_type": "error",
          "ename": "SyntaxError",
          "evalue": "ignored",
          "traceback": [
            "\u001b[0;36m  File \u001b[0;32m\"<ipython-input-70-c89183b91240>\"\u001b[0;36m, line \u001b[0;32m31\u001b[0m\n\u001b[0;31m    def estado_alumno(\"com\",ide,par1,par2):\u001b[0m\n\u001b[0m                          ^\u001b[0m\n\u001b[0;31mSyntaxError\u001b[0m\u001b[0;31m:\u001b[0m invalid syntax\n"
          ]
        }
      ]
    }
  ]
}